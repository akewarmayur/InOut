{
 "cells": [
  {
   "cell_type": "code",
   "execution_count": 1,
   "id": "needed-experience",
   "metadata": {},
   "outputs": [],
   "source": [
    "import pandas as pd\n",
    "import numpy as np\n"
   ]
  },
  {
   "cell_type": "code",
   "execution_count": 2,
   "id": "minor-movie",
   "metadata": {},
   "outputs": [
    {
     "data": {
      "text/plain": [
       "[1]"
      ]
     },
     "execution_count": 2,
     "metadata": {},
     "output_type": "execute_result"
    }
   ],
   "source": [
    "def cal_outliers(lst):\n",
    "    mn = np.mean(lst)\n",
    "    sd = np.std(lst)\n",
    "    final_list = [x for x in lst if (x > mn - 2 * sd)]\n",
    "    final_list = [x for x in final_list if (x < mn + 2 * sd)]\n",
    "    list_of_outliers = list(set(lst) - set(final_list))\n",
    "    #print('outliers:', list_of_outliers)\n",
    "    return list_of_outliers\n",
    "cal_outliers([1,1,1])"
   ]
  },
  {
   "cell_type": "code",
   "execution_count": 24,
   "id": "pointed-exposure",
   "metadata": {},
   "outputs": [
    {
     "name": "stdout",
     "output_type": "stream",
     "text": [
      "700\n",
      "70\n"
     ]
    }
   ],
   "source": [
    "df_current = pd.read_csv('pp.csv')\n",
    "df_past = pd.read_csv('ZEEL_29_Apr_2021.csv')\n",
    "print(len(df_past.index))\n",
    "print(len(df_current.index))"
   ]
  },
  {
   "cell_type": "code",
   "execution_count": 25,
   "id": "documented-weather",
   "metadata": {},
   "outputs": [
    {
     "name": "stdout",
     "output_type": "stream",
     "text": [
      "169\n",
      "17\n"
     ]
    }
   ],
   "source": [
    "df_past=df_past[df_past['COI'] !=0.0]\n",
    "print(len(df_past.index))\n",
    "df_current=df_current[df_current['COI'] !=0.0]\n",
    "print(len(df_current.index))"
   ]
  },
  {
   "cell_type": "code",
   "execution_count": 26,
   "id": "rental-villa",
   "metadata": {},
   "outputs": [
    {
     "name": "stdout",
     "output_type": "stream",
     "text": [
      "186\n"
     ]
    },
    {
     "data": {
      "text/html": [
       "<div>\n",
       "<style scoped>\n",
       "    .dataframe tbody tr th:only-of-type {\n",
       "        vertical-align: middle;\n",
       "    }\n",
       "\n",
       "    .dataframe tbody tr th {\n",
       "        vertical-align: top;\n",
       "    }\n",
       "\n",
       "    .dataframe thead th {\n",
       "        text-align: right;\n",
       "    }\n",
       "</style>\n",
       "<table border=\"1\" class=\"dataframe\">\n",
       "  <thead>\n",
       "    <tr style=\"text-align: right;\">\n",
       "      <th></th>\n",
       "      <th>index</th>\n",
       "      <th>StrikePrice</th>\n",
       "      <th>OptionType</th>\n",
       "      <th>StrTradeDateTime</th>\n",
       "      <th>TradeDateTime</th>\n",
       "      <th>ExpiryDate</th>\n",
       "      <th>StrExpiryDate</th>\n",
       "      <th>OI</th>\n",
       "      <th>COI</th>\n",
       "      <th>IV</th>\n",
       "      <th>VOL</th>\n",
       "    </tr>\n",
       "  </thead>\n",
       "  <tbody>\n",
       "    <tr>\n",
       "      <th>17</th>\n",
       "      <td>17</td>\n",
       "      <td>170.0</td>\n",
       "      <td>PE</td>\n",
       "      <td>13:40</td>\n",
       "      <td>2021-04-01 11:57:29.207846+05:30</td>\n",
       "      <td>4/29/2021</td>\n",
       "      <td>29-Apr-21</td>\n",
       "      <td>3.87</td>\n",
       "      <td>0.30</td>\n",
       "      <td>51.83</td>\n",
       "      <td>192000</td>\n",
       "    </tr>\n",
       "    <tr>\n",
       "      <th>21</th>\n",
       "      <td>21</td>\n",
       "      <td>180.0</td>\n",
       "      <td>PE</td>\n",
       "      <td>13:40</td>\n",
       "      <td>2021-04-01 11:57:29.233159+05:30</td>\n",
       "      <td>4/29/2021</td>\n",
       "      <td>29-Apr-21</td>\n",
       "      <td>9.42</td>\n",
       "      <td>-0.03</td>\n",
       "      <td>48.08</td>\n",
       "      <td>129000</td>\n",
       "    </tr>\n",
       "    <tr>\n",
       "      <th>23</th>\n",
       "      <td>23</td>\n",
       "      <td>185.0</td>\n",
       "      <td>PE</td>\n",
       "      <td>13:40</td>\n",
       "      <td>2021-04-01 11:57:29.246628+05:30</td>\n",
       "      <td>4/29/2021</td>\n",
       "      <td>29-Apr-21</td>\n",
       "      <td>1.41</td>\n",
       "      <td>-0.03</td>\n",
       "      <td>46.97</td>\n",
       "      <td>24000</td>\n",
       "    </tr>\n",
       "    <tr>\n",
       "      <th>28</th>\n",
       "      <td>28</td>\n",
       "      <td>200.0</td>\n",
       "      <td>CE</td>\n",
       "      <td>13:40</td>\n",
       "      <td>2021-04-01 11:57:29.288364+05:30</td>\n",
       "      <td>4/29/2021</td>\n",
       "      <td>29-Apr-21</td>\n",
       "      <td>12.78</td>\n",
       "      <td>-0.27</td>\n",
       "      <td>44.73</td>\n",
       "      <td>426000</td>\n",
       "    </tr>\n",
       "    <tr>\n",
       "      <th>29</th>\n",
       "      <td>29</td>\n",
       "      <td>200.0</td>\n",
       "      <td>PE</td>\n",
       "      <td>13:40</td>\n",
       "      <td>2021-04-01 11:57:29.288364+05:30</td>\n",
       "      <td>4/29/2021</td>\n",
       "      <td>29-Apr-21</td>\n",
       "      <td>18.69</td>\n",
       "      <td>-0.06</td>\n",
       "      <td>44.73</td>\n",
       "      <td>396000</td>\n",
       "    </tr>\n",
       "  </tbody>\n",
       "</table>\n",
       "</div>"
      ],
      "text/plain": [
       "    index  StrikePrice OptionType StrTradeDateTime  \\\n",
       "17     17        170.0         PE            13:40   \n",
       "21     21        180.0         PE            13:40   \n",
       "23     23        185.0         PE            13:40   \n",
       "28     28        200.0         CE            13:40   \n",
       "29     29        200.0         PE            13:40   \n",
       "\n",
       "                       TradeDateTime ExpiryDate StrExpiryDate     OI   COI  \\\n",
       "17  2021-04-01 11:57:29.207846+05:30  4/29/2021     29-Apr-21   3.87  0.30   \n",
       "21  2021-04-01 11:57:29.233159+05:30  4/29/2021     29-Apr-21   9.42 -0.03   \n",
       "23  2021-04-01 11:57:29.246628+05:30  4/29/2021     29-Apr-21   1.41 -0.03   \n",
       "28  2021-04-01 11:57:29.288364+05:30  4/29/2021     29-Apr-21  12.78 -0.27   \n",
       "29  2021-04-01 11:57:29.288364+05:30  4/29/2021     29-Apr-21  18.69 -0.06   \n",
       "\n",
       "       IV     VOL  \n",
       "17  51.83  192000  \n",
       "21  48.08  129000  \n",
       "23  46.97   24000  \n",
       "28  44.73  426000  \n",
       "29  44.73  396000  "
      ]
     },
     "execution_count": 26,
     "metadata": {},
     "output_type": "execute_result"
    }
   ],
   "source": [
    "df = pd.concat([df_current, df_past])\n",
    "print(len(df.index))\n",
    "df.head()"
   ]
  },
  {
   "cell_type": "code",
   "execution_count": 19,
   "id": "social-flash",
   "metadata": {},
   "outputs": [],
   "source": [
    "import warnings\n",
    "warnings.filterwarnings(\"ignore\")"
   ]
  },
  {
   "cell_type": "code",
   "execution_count": 35,
   "id": "conditional-klein",
   "metadata": {},
   "outputs": [],
   "source": [
    "def cal_change_OI(df):\n",
    "    df['OI_change'] = 0\n",
    "    for i, columnData in enumerate(df['OI']):\n",
    "        if i == 0:\n",
    "            df['OI_change'].iloc[i] = None\n",
    "        else:\n",
    "            temp = columnData - df['OI'].iloc[i - 1]\n",
    "            df['OI_change'].iloc[i] = temp\n",
    "    return df"
   ]
  },
  {
   "cell_type": "code",
   "execution_count": 27,
   "id": "adult-surgery",
   "metadata": {},
   "outputs": [
    {
     "data": {
      "text/plain": [
       "'13:40'"
      ]
     },
     "execution_count": 27,
     "metadata": {},
     "output_type": "execute_result"
    }
   ],
   "source": [
    "time = df['StrTradeDateTime'].iloc[0]\n",
    "time"
   ]
  },
  {
   "cell_type": "code",
   "execution_count": 28,
   "id": "atlantic-enough",
   "metadata": {},
   "outputs": [
    {
     "name": "stdout",
     "output_type": "stream",
     "text": [
      "114\n",
      "72\n"
     ]
    }
   ],
   "source": [
    "df_CE = df[df['OptionType'] == 'CE']\n",
    "df_PE = df[df['OptionType'] == 'PE']\n",
    "print(len(df_CE.index))\n",
    "print(len(df_PE.index))"
   ]
  },
  {
   "cell_type": "code",
   "execution_count": 29,
   "id": "gothic-campbell",
   "metadata": {},
   "outputs": [],
   "source": [
    "StrikePriceList = df_CE[df_CE['StrTradeDateTime'] == time]['StrikePrice']\n",
    "sl = StrikePriceList.to_list()"
   ]
  },
  {
   "cell_type": "code",
   "execution_count": 43,
   "id": "incorrect-shopping",
   "metadata": {},
   "outputs": [
    {
     "name": "stdout",
     "output_type": "stream",
     "text": [
      "200.0\n",
      "     index  StrikePrice OptionType StrTradeDateTime  \\\n",
      "28      28        200.0         CE            13:40   \n",
      "28      28        200.0         CE            11:57   \n",
      "98      98        200.0         CE            11:08   \n",
      "168    168        200.0         CE            10:56   \n",
      "238    238        200.0         CE            10:43   \n",
      "\n",
      "                        TradeDateTime  ExpiryDate StrExpiryDate     OI   COI  \\\n",
      "28   2021-04-01 11:57:29.288364+05:30   4/29/2021     29-Apr-21  12.78 -0.27   \n",
      "28   2021-04-01 11:57:29.288364+05:30  2021-04-29       29APR21  12.78 -0.27   \n",
      "98   2021-04-01 11:08:54.439742+05:30  2021-04-29       29APR21  12.72 -0.33   \n",
      "168  2021-04-01 10:56:08.212553+05:30  2021-04-29       29APR21  12.69 -0.36   \n",
      "238  2021-04-01 10:43:32.459559+05:30  2021-04-29       29APR21  12.78 -0.27   \n",
      "\n",
      "        IV     VOL  OI_change  \n",
      "28   44.73  426000        NaN  \n",
      "28   44.73  426000       0.00  \n",
      "98   43.88  402000      -0.06  \n",
      "168  45.22  369000      -0.03  \n",
      "238  44.68  351000       0.09  \n",
      "0.0\n",
      "[-0.20999999999999908]\n",
      "___________________\n",
      "205.0\n",
      "     index  StrikePrice OptionType StrTradeDateTime  \\\n",
      "30      30        205.0         CE            13:40   \n",
      "30      30        205.0         CE            11:57   \n",
      "100    100        205.0         CE            11:08   \n",
      "170    170        205.0         CE            10:56   \n",
      "240    240        205.0         CE            10:43   \n",
      "\n",
      "                        TradeDateTime  ExpiryDate StrExpiryDate    OI   COI  \\\n",
      "30   2021-04-01 11:57:29.300738+05:30   4/29/2021     29-Apr-21  6.30  0.45   \n",
      "30   2021-04-01 11:57:29.300738+05:30  2021-04-29       29APR21  6.30  0.45   \n",
      "100  2021-04-01 11:08:54.453380+05:30  2021-04-29       29APR21  6.12  0.27   \n",
      "170  2021-04-01 10:56:08.224989+05:30  2021-04-29       29APR21  6.09  0.24   \n",
      "240  2021-04-01 10:43:32.473806+05:30  2021-04-29       29APR21  6.00  0.15   \n",
      "\n",
      "        IV     VOL  OI_change  \n",
      "30   45.55  702000        NaN  \n",
      "30   45.55  702000       0.00  \n",
      "100  43.81  636000      -0.18  \n",
      "170  44.37  612000      -0.03  \n",
      "240  44.34  567000      -0.09  \n",
      "0.0\n",
      "[-0.3000000000000007]\n",
      "___________________\n",
      "210.0\n",
      "     index  StrikePrice OptionType StrTradeDateTime  \\\n",
      "32      32        210.0         CE            13:40   \n",
      "32      32        210.0         CE            11:57   \n",
      "102    102        210.0         CE            11:08   \n",
      "172    172        210.0         CE            10:56   \n",
      "242    242        210.0         CE            10:43   \n",
      "\n",
      "                        TradeDateTime  ExpiryDate StrExpiryDate     OI   COI  \\\n",
      "32   2021-04-01 11:57:29.313119+05:30   4/29/2021     29-Apr-21  16.71 -0.57   \n",
      "32   2021-04-01 11:57:29.313119+05:30  2021-04-29       29APR21  16.71 -0.57   \n",
      "102  2021-04-01 11:08:54.466481+05:30  2021-04-29       29APR21  16.44 -0.84   \n",
      "172  2021-04-01 10:56:08.237902+05:30  2021-04-29       29APR21  16.44 -0.84   \n",
      "242  2021-04-01 10:43:32.487708+05:30  2021-04-29       29APR21  16.71 -0.57   \n",
      "\n",
      "        IV      VOL  OI_change  \n",
      "32   45.31  1770000        NaN  \n",
      "32   45.31  1770000       0.00  \n",
      "102  44.43  1683000      -0.27  \n",
      "172  44.46  1626000       0.00  \n",
      "242  44.71  1536000       0.27  \n",
      "0.0\n",
      "[1.0200000000000031]\n",
      "___________________\n",
      "215.0\n",
      "___________________\n",
      "220.0\n",
      "     index  StrikePrice OptionType StrTradeDateTime  \\\n",
      "36      36        220.0         CE            13:40   \n",
      "36      36        220.0         CE            11:57   \n",
      "106    106        220.0         CE            11:08   \n",
      "176    176        220.0         CE            10:56   \n",
      "246    246        220.0         CE            10:43   \n",
      "\n",
      "                        TradeDateTime  ExpiryDate StrExpiryDate     OI   COI  \\\n",
      "36   2021-04-01 11:57:29.338622+05:30   4/29/2021     29-Apr-21  16.74  0.42   \n",
      "36   2021-04-01 11:57:29.338622+05:30  2021-04-29       29APR21  16.74  0.42   \n",
      "106  2021-04-01 11:08:54.493156+05:30  2021-04-29       29APR21  16.65  0.33   \n",
      "176  2021-04-01 10:56:08.264865+05:30  2021-04-29       29APR21  16.56  0.24   \n",
      "246  2021-04-01 10:43:32.514579+05:30  2021-04-29       29APR21  16.53  0.21   \n",
      "\n",
      "        IV     VOL  OI_change  \n",
      "36   45.48  639000        NaN  \n",
      "36   45.48  639000       0.00  \n",
      "106  45.78  582000      -0.09  \n",
      "176  45.90  552000      -0.09  \n",
      "246  45.96  507000      -0.03  \n",
      "0.0\n",
      "[]\n",
      "___________________\n",
      "225.0\n",
      "     index  StrikePrice OptionType StrTradeDateTime  \\\n",
      "38      38        225.0         CE            13:40   \n",
      "38      38        225.0         CE            11:57   \n",
      "108    108        225.0         CE            11:08   \n",
      "178    178        225.0         CE            10:56   \n",
      "248    248        225.0         CE            10:43   \n",
      "\n",
      "                        TradeDateTime  ExpiryDate StrExpiryDate    OI   COI  \\\n",
      "38   2021-04-01 11:57:29.351160+05:30   4/29/2021     29-Apr-21  2.25  0.36   \n",
      "38   2021-04-01 11:57:29.351160+05:30  2021-04-29       29APR21  2.25  0.36   \n",
      "108  2021-04-01 11:08:54.506361+05:30  2021-04-29       29APR21  2.22  0.33   \n",
      "178  2021-04-01 10:56:08.277824+05:30  2021-04-29       29APR21  2.22  0.33   \n",
      "248  2021-04-01 10:43:32.527617+05:30  2021-04-29       29APR21  2.22  0.33   \n",
      "\n",
      "        IV     VOL  OI_change  \n",
      "38   45.83  123000        NaN  \n",
      "38   45.83  123000       0.00  \n",
      "108  45.64  111000      -0.03  \n",
      "178  46.84  108000       0.00  \n",
      "248  46.03  105000       0.00  \n",
      "0.0\n",
      "[]\n",
      "___________________\n",
      "230.0\n",
      "     index  StrikePrice OptionType StrTradeDateTime  \\\n",
      "40      40        230.0         CE            13:40   \n",
      "40      40        230.0         CE            11:57   \n",
      "110    110        230.0         CE            11:08   \n",
      "180    180        230.0         CE            10:56   \n",
      "250    250        230.0         CE            10:43   \n",
      "\n",
      "                        TradeDateTime  ExpiryDate StrExpiryDate     OI   COI  \\\n",
      "40   2021-04-01 11:57:29.363815+05:30   4/29/2021     29-Apr-21  15.51  0.30   \n",
      "40   2021-04-01 11:57:29.363815+05:30  2021-04-29       29APR21  15.51  0.30   \n",
      "110  2021-04-01 11:08:54.519288+05:30  2021-04-29       29APR21  15.57  0.36   \n",
      "180  2021-04-01 10:56:08.290648+05:30  2021-04-29       29APR21  15.60  0.39   \n",
      "250  2021-04-01 10:43:32.540811+05:30  2021-04-29       29APR21  15.54  0.33   \n",
      "\n",
      "        IV     VOL  OI_change  \n",
      "40   47.83  309000        NaN  \n",
      "40   47.83  309000       0.00  \n",
      "110  47.45  270000       0.06  \n",
      "180  48.09  246000       0.03  \n",
      "250  47.39  222000      -0.06  \n",
      "0.0\n",
      "[]\n",
      "___________________\n",
      "235.0\n",
      "___________________\n",
      "240.0\n",
      "___________________\n",
      "245.0\n",
      "___________________\n",
      "260.0\n",
      "     index  StrikePrice OptionType StrTradeDateTime  \\\n",
      "52      52        260.0         CE            13:40   \n",
      "52      52        260.0         CE            11:57   \n",
      "122    122        260.0         CE            11:08   \n",
      "192    192        260.0         CE            10:56   \n",
      "262    262        260.0         CE            10:43   \n",
      "\n",
      "                        TradeDateTime  ExpiryDate StrExpiryDate    OI   COI  \\\n",
      "52   2021-04-01 11:57:29.441450+05:30   4/29/2021     29-Apr-21  2.43 -0.09   \n",
      "52   2021-04-01 11:57:29.441450+05:30  2021-04-29       29APR21  2.43 -0.09   \n",
      "122  2021-04-01 11:08:54.603545+05:30  2021-04-29       29APR21  2.43 -0.09   \n",
      "192  2021-04-01 10:56:08.368867+05:30  2021-04-29       29APR21  2.43 -0.09   \n",
      "262  2021-04-01 10:43:32.625969+05:30  2021-04-29       29APR21  2.43 -0.09   \n",
      "\n",
      "        IV    VOL  OI_change  \n",
      "52   53.20  72000        NaN  \n",
      "52   53.20  72000        0.0  \n",
      "122  54.32  72000        0.0  \n",
      "192  55.00  66000        0.0  \n",
      "262  55.61  63000        0.0  \n",
      "0.0\n",
      "[-0.03000000000000025]\n",
      "___________________\n"
     ]
    }
   ],
   "source": [
    "for s in sl:\n",
    "    list_to_write = []\n",
    "    temp = df_CE[df_CE['StrikePrice'] == s]\n",
    "    print(s)\n",
    "    if len(temp.index) >= 10:\n",
    "        temp = temp[:10]\n",
    "        #calculate new column\n",
    "        temp = cal_change_OI(temp)\n",
    "        print(temp.head())\n",
    "        current_coi = temp['COI'].to_list()[0]\n",
    "        temp.dropna(inplace=True)\n",
    "        ll = temp['OI_change'].to_list()\n",
    "        old_oi_change = ll[0]\n",
    "        print(old_oi_change)\n",
    "        list_of_outliers = cal_outliers(ll)\n",
    "        print(list_of_outliers)\n",
    "        if len(list_of_outliers) > 0:\n",
    "            if old_oi_change in list_of_outliers:\n",
    "                old_coi = temp['COI'].to_list()[0]\n",
    "                list_to_write = [s, current_coi, old_coi]\n",
    "                print(list_to_write)\n",
    "    print('___________________')"
   ]
  },
  {
   "cell_type": "code",
   "execution_count": 55,
   "id": "breathing-thomas",
   "metadata": {},
   "outputs": [
    {
     "data": {
      "text/plain": [
       "28     False\n",
       "30     False\n",
       "32     False\n",
       "34     False\n",
       "36     False\n",
       "       ...  \n",
       "662    False\n",
       "664    False\n",
       "666    False\n",
       "674    False\n",
       "678    False\n",
       "Name: StrikePrice, Length: 114, dtype: bool"
      ]
     },
     "execution_count": 55,
     "metadata": {},
     "output_type": "execute_result"
    }
   ],
   "source": [
    "df_CE['StrikePrice'] == 225"
   ]
  },
  {
   "cell_type": "code",
   "execution_count": null,
   "id": "accompanied-philosophy",
   "metadata": {},
   "outputs": [],
   "source": []
  }
 ],
 "metadata": {
  "kernelspec": {
   "display_name": "Python 3",
   "language": "python",
   "name": "python3"
  },
  "language_info": {
   "codemirror_mode": {
    "name": "ipython",
    "version": 3
   },
   "file_extension": ".py",
   "mimetype": "text/x-python",
   "name": "python",
   "nbconvert_exporter": "python",
   "pygments_lexer": "ipython3",
   "version": "3.8.6"
  }
 },
 "nbformat": 4,
 "nbformat_minor": 5
}
